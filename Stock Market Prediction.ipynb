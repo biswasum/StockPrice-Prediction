{
 "cells": [
  {
   "cell_type": "code",
   "execution_count": 1,
   "metadata": {},
   "outputs": [
    {
     "data": {
      "text/plain": [
       "(1235, 8)"
      ]
     },
     "execution_count": 1,
     "metadata": {},
     "output_type": "execute_result"
    }
   ],
   "source": [
    "import pandas as pd \n",
    "df = pd.read_csv(\"stockmarket.csv\")\n",
    "df.head()\n",
    "df.shape"
   ]
  },
  {
   "cell_type": "code",
   "execution_count": 11,
   "metadata": {},
   "outputs": [
    {
     "name": "stdout",
     "output_type": "stream",
     "text": [
      "0          1\n",
      "1          2\n",
      "2          3\n",
      "3          4\n",
      "4          5\n",
      "        ... \n",
      "1230    1231\n",
      "1231    1232\n",
      "1232    1233\n",
      "1233    1234\n",
      "1234    1235\n",
      "Name: days, Length: 1235, dtype: int64\n",
      "0       215.15\n",
      "1       209.20\n",
      "2       218.20\n",
      "3       227.60\n",
      "4       230.90\n",
      "         ...  \n",
      "1230    159.45\n",
      "1231    160.05\n",
      "1232    160.15\n",
      "1233    155.55\n",
      "1234    155.80\n",
      "Name: Close, Length: 1235, dtype: float64\n"
     ]
    }
   ],
   "source": [
    "x = df[\"days\"]\n",
    "y = df[\"Close\"]\n",
    "print(x);print(y)"
   ]
  },
  {
   "cell_type": "code",
   "execution_count": 16,
   "metadata": {},
   "outputs": [
    {
     "name": "stdout",
     "output_type": "stream",
     "text": [
      "-0.08857550730558691 223.47071614643158\n"
     ]
    },
    {
     "data": {
      "image/png": "[encoded data removed]",
      "text/plain": [
       "<Figure size 432x288 with 1 Axes>"
      ]
     },
     "metadata": {
      "needs_background": "light"
     },
     "output_type": "display_data"
    }
   ],
   "source": [
    "import numpy as np \n",
    "import matplotlib.pyplot as plt\n",
    "# Find Slope and Distance \n",
    "\n",
    "m = ((np.mean(x*y))-(np.mean(x)*np.mean(y)))/((np.mean(x**2))-(np.mean(x)**2))\n",
    "\n",
    "c= np.mean(y) - (m*np.mean(x))\n",
    "\n",
    "print(m,c)\n",
    "\n",
    "plt.scatter(x,y)\n",
    "plt.plot()\n",
    "plt.show()"
   ]
  },
  {
   "cell_type": "code",
   "execution_count": 12,
   "metadata": {},
   "outputs": [],
   "source": [
    "#  Linear Regression Model\n",
    "\n",
    "def predict():\n",
    "    x_pred = int (input (\"Enter the day for stock price prediction: \" ))\n",
    "    y_hat = m*(x_pred) +c\n",
    "    print(\"The closing stock price for\", x_pred ,\"day is :\",y_hat)"
   ]
  },
  {
   "cell_type": "code",
   "execution_count": 13,
   "metadata": {},
   "outputs": [
    {
     "name": "stdout",
     "output_type": "stream",
     "text": [
      "Enter the day for stock price prediction: 1000\n",
      "The closing stock price for 1000 day is : 134.89520884084467\n"
     ]
    }
   ],
   "source": [
    "predict()"
   ]
  },
  {
   "cell_type": "code",
   "execution_count": null,
   "metadata": {},
   "outputs": [],
   "source": []
  }
 ],
 "metadata": {
  "kernelspec": {
   "display_name": "Python 3",
   "language": "python",
   "name": "python3"
  },
  "language_info": {
   "codemirror_mode": {
    "name": "ipython",
    "version": 3
   },
   "file_extension": ".py",
   "mimetype": "text/x-python",
   "name": "python",
   "nbconvert_exporter": "python",
   "pygments_lexer": "ipython3",
   "version": "3.7.4"
  }
 },
 "nbformat": 4,
 "nbformat_minor": 2
}
